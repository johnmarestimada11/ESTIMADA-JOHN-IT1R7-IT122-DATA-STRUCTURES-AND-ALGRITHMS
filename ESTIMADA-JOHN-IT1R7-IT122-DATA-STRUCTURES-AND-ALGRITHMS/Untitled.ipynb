{
 "cells": [
  {
   "cell_type": "code",
   "execution_count": 1,
   "id": "functioning-basement",
   "metadata": {},
   "outputs": [
    {
     "name": "stdout",
     "output_type": "stream",
     "text": [
      "Discuss your learnings on Chapter 1  time-frame 8:00 - 30:35. Minimum of 200 characters\n",
      "Chapter 1 learning are the following\n",
      "Data Structures are the programmatic way of storing data so that data can be used efficiently. Almost every enterprise application uses various types of data structures in one or the other way. This tutorial will give you a great understanding on Data Structures needed to understand the complexity of enterprise level applications and need of algorithms, and data structures. The Correctness, Time complexity, Space Complexity means that Data structure must implement correctly and then the running time of execution must be fast as possible and it should consume a small space of your storage. Example When we make a system we must make sure that the data must implement correctly and nicely because if you didnt implement it correctly your data and system will be useless because it will not run and then the execution time must be fast because the users nowadays didnt like a long process or they didnt like to wait a long time. Then the space or storage of your system must have a small amount. \n",
      "There are three types of cases. First is the Worst Case means it is the longest execution time, it take a long time before the data will run or execute. Example the execution must take only 15 to 20 second but then the execution takes 3 to 5 minutes. Second is the average it means the execution time will not take too long and not too fast but it is just a average time. Example the execution time must take 20 seconds but the execution take 25 to 30 seconds. that is only a average time of execution. Third is the Best Case. Example the execution time must tak 20 seconds but it only take 10 seconds.\n",
      "Data are the set of values. Data items refers to single unit of values. Group items are data items that are divided into sub items. Elementary items are that data that cannot be divided. Attribute and Entity is contains certain properties which may be assigned values. Entity set are  entities of similar attributes form an entity set. Field is a single elementary unit of information. Record is a collection of field values of a given entity. File is a collection of records of entities.\n",
      "Algorithm is a step-by-step procedure, which defines a set of instructions to be executed in a certain order to get the desired output. Algorithms are generally created independent of underlying languages. An algorithm can be implemented in more than one programming language. \n"
     ]
    }
   ],
   "source": [
    "print('Discuss your learnings on Chapter 1  time-frame 8:00 - 30:35. Minimum of 200 characters')\n",
    "\n",
    "print('Chapter 1 learning are the following')\n",
    "print('Data Structures are the programmatic way of storing data so that data can be used efficiently. Almost every enterprise application uses various types of data structures in one or the other way. This tutorial will give you a great understanding on Data Structures needed to understand the complexity of enterprise level applications and need of algorithms, and data structures. The Correctness, Time complexity, Space Complexity means that Data structure must implement correctly and then the running time of execution must be fast as possible and it should consume a small space of your storage. Example When we make a system we must make sure that the data must implement correctly and nicely because if you didnt implement it correctly your data and system will be useless because it will not run and then the execution time must be fast because the users nowadays didnt like a long process or they didnt like to wait a long time. Then the space or storage of your system must have a small amount. ')\n",
    "print('There are three types of cases. First is the Worst Case means it is the longest execution time, it take a long time before the data will run or execute. Example the execution must take only 15 to 20 second but then the execution takes 3 to 5 minutes. Second is the average it means the execution time will not take too long and not too fast but it is just a average time. Example the execution time must take 20 seconds but the execution take 25 to 30 seconds. that is only a average time of execution. Third is the Best Case. Example the execution time must tak 20 seconds but it only take 10 seconds.')\n",
    "print('Data are the set of values. Data items refers to single unit of values. Group items are data items that are divided into sub items. Elementary items are that data that cannot be divided. Attribute and Entity is contains certain properties which may be assigned values. Entity set are  entities of similar attributes form an entity set. Field is a single elementary unit of information. Record is a collection of field values of a given entity. File is a collection of records of entities.')\n",
    "print('Algorithm is a step-by-step procedure, which defines a set of instructions to be executed in a certain order to get the desired output. Algorithms are generally created independent of underlying languages. An algorithm can be implemented in more than one programming language. ')\n",
    "\n"
   ]
  },
  {
   "cell_type": "code",
   "execution_count": 2,
   "id": "empty-spray",
   "metadata": {},
   "outputs": [
    {
     "name": "stdout",
     "output_type": "stream",
     "text": [
      "Discuss your learnings on Chapter 1  time-frame 35:00 - end. Minimum of 200 characters\n",
      "Chapter 1 learning are the following\n",
      "An algorithm is a set of steps of operations to solve a problem performing calculation, data processing, and automated reasoning tasks. An algorithm is an efficient method that can be expressed within finite amount of time and space. An algorithm is the best way to represent the solution of a particular problem in a very simple and efficient way. If we have an algorithm for a specific problem, then we can implement it in any programming language, meaning that the algorithm is independent from any programming languages.\n",
      "The important aspects of algorithm design include creating an efficient algorithm to solve a problem in an efficient way using minimum time and space. To solve a problem, different approaches can be followed. Some of them can be efficient with respect to time consumption, whereas other approaches may be memory efficient. However, one has to keep in mind that both time consumption and memory usage cannot be optimized simultaneously. If we require an algorithm to run in lesser time, we have to invest in more memory and if we require an algorithm to run with lesser memory, we need to have more time.\n",
      "Sometimes, there are more than one way to solve a problem. We need to learn how to compare the performance different algorithms and choose the best one to solve a particular problem. While analyzing an algorithm, we mostly consider time complexity and space complexity. Time complexity of an algorithm quantifies the amount of time taken by an algorithm to run as a function of the length of the input. Similarly, Space complexity of an algorithm quantifies the amount of space or memory taken by an algorithm to run as a function of the length of the input. Time and space complexity depends on lots of things like hardware, operating system, processors, etc. However, we dont consider any of these factors while analyzing the algorithm. We will only consider the execution time of an algorithm.\n",
      "Algorithms are often quite different from one another, though the objective of these algorithms are the same. For example, we know that a set of numbers can be sorted using different algorithms. Number of comparisons performed by one algorithm may vary with others for the same input. Hence, time complexity of those algorithms may differ. At the same time, we need to calculate the memory space required by each algorithm.Analysis of algorithm is the process of analyzing the problem-solving capability of the algorithm in terms of the time and size required the size of memory for storage while implementation. However, the main concern of analysis of algorithms is the required time or performance. Generally, we perform the following types of analysis Worst-case  The maximum number of steps taken on any instance of size a. Best case The minimum number of steps taken on any instance of size a. Average case − An average number of steps taken on any instance of size a. Amortized − A sequence of operations applied to the input of size a averaged over time.To solve a problem, we need to consider time as well as space complexity as the program may run on a system where memory is limited but adequate space is available or may be vice-versa. In this context, if we compare bubble sort and merge sort. Bubble sort does not require additional memory, but merge sort requires additional space. Though time complexity of bubble sort is higher compared to merge sort, we may need to apply bubble sort if the program needs to run in an environment, where memory is very limited.\n",
      "Discuss your learnings on Chapter 2  time-frame 5:00 - 9:00. Minimum of 200 characters\n"
     ]
    }
   ],
   "source": [
    "print('Discuss your learnings on Chapter 1  time-frame 35:00 - end. Minimum of 200 characters')\n",
    "\n",
    "print('Chapter 1 learning are the following')\n",
    "print('An algorithm is a set of steps of operations to solve a problem performing calculation, data processing, and automated reasoning tasks. An algorithm is an efficient method that can be expressed within finite amount of time and space. An algorithm is the best way to represent the solution of a particular problem in a very simple and efficient way. If we have an algorithm for a specific problem, then we can implement it in any programming language, meaning that the algorithm is independent from any programming languages.')\n",
    "print('The important aspects of algorithm design include creating an efficient algorithm to solve a problem in an efficient way using minimum time and space. To solve a problem, different approaches can be followed. Some of them can be efficient with respect to time consumption, whereas other approaches may be memory efficient. However, one has to keep in mind that both time consumption and memory usage cannot be optimized simultaneously. If we require an algorithm to run in lesser time, we have to invest in more memory and if we require an algorithm to run with lesser memory, we need to have more time.')\n",
    "print('Sometimes, there are more than one way to solve a problem. We need to learn how to compare the performance different algorithms and choose the best one to solve a particular problem. While analyzing an algorithm, we mostly consider time complexity and space complexity. Time complexity of an algorithm quantifies the amount of time taken by an algorithm to run as a function of the length of the input. Similarly, Space complexity of an algorithm quantifies the amount of space or memory taken by an algorithm to run as a function of the length of the input. Time and space complexity depends on lots of things like hardware, operating system, processors, etc. However, we dont consider any of these factors while analyzing the algorithm. We will only consider the execution time of an algorithm.')\n",
    "print('Algorithms are often quite different from one another, though the objective of these algorithms are the same. For example, we know that a set of numbers can be sorted using different algorithms. Number of comparisons performed by one algorithm may vary with others for the same input. Hence, time complexity of those algorithms may differ. At the same time, we need to calculate the memory space required by each algorithm.Analysis of algorithm is the process of analyzing the problem-solving capability of the algorithm in terms of the time and size required the size of memory for storage while implementation. However, the main concern of analysis of algorithms is the required time or performance. Generally, we perform the following types of analysis Worst-case  The maximum number of steps taken on any instance of size a. Best case The minimum number of steps taken on any instance of size a. Average case − An average number of steps taken on any instance of size a. Amortized − A sequence of operations applied to the input of size a averaged over time.To solve a problem, we need to consider time as well as space complexity as the program may run on a system where memory is limited but adequate space is available or may be vice-versa. In this context, if we compare bubble sort and merge sort. Bubble sort does not require additional memory, but merge sort requires additional space. Though time complexity of bubble sort is higher compared to merge sort, we may need to apply bubble sort if the program needs to run in an environment, where memory is very limited.')\n",
    "print('Discuss your learnings on Chapter 2  time-frame 5:00 - 9:00. Minimum of 200 characters')\n"
   ]
  },
  {
   "cell_type": "code",
   "execution_count": 3,
   "id": "removed-workstation",
   "metadata": {},
   "outputs": [
    {
     "name": "stdout",
     "output_type": "stream",
     "text": [
      "Discuss your learnings on Chapter 2  time-frame 5:00 - 9:00. Minimum of 200 characters\n",
      "Chapter 2 learning are the following\n",
      "Built-in data type is a type of data which a language has built-in support are known as built-in data types. There are four built-in data types. first is the integers, integers must be a whole number and not a fraction because if its a function then the system will not read your data. Second is boolean, boolean is only a True or false. Third is Floating, Floating is only a decimal number. fourth is character and strings.\n",
      "Derive data types are implementation independent as they canbe implemented in one or the other way are know as derived data types. These data types are normally built by the combination of primary or built-in data types and associated operations on them. Example are the List, array, stack, Queue. Basic operations are the data in the data structures are processed by certain operations. The particular data structure chose largely depends on the frequency of the operation that needs to be performed on the data structure. Example of basic operations are traversing, searching, insertion, deletion, sorting and merging. \n"
     ]
    }
   ],
   "source": [
    "print('Discuss your learnings on Chapter 2  time-frame 5:00 - 9:00. Minimum of 200 characters')\n",
    "\n",
    "print('Chapter 2 learning are the following')\n",
    "print('Built-in data type is a type of data which a language has built-in support are known as built-in data types. There are four built-in data types. first is the integers, integers must be a whole number and not a fraction because if its a function then the system will not read your data. Second is boolean, boolean is only a True or false. Third is Floating, Floating is only a decimal number. fourth is character and strings.')\n",
    "print('Derive data types are implementation independent as they canbe implemented in one or the other way are know as derived data types. These data types are normally built by the combination of primary or built-in data types and associated operations on them. Example are the List, array, stack, Queue. Basic operations are the data in the data structures are processed by certain operations. The particular data structure chose largely depends on the frequency of the operation that needs to be performed on the data structure. Example of basic operations are traversing, searching, insertion, deletion, sorting and merging. ')\n",
    "\n"
   ]
  },
  {
   "cell_type": "code",
   "execution_count": 9,
   "id": "formal-branch",
   "metadata": {},
   "outputs": [
    {
     "name": "stdout",
     "output_type": "stream",
     "text": [
      "Discuss your learnings on Chapter 3  time-frame 3:00 - 18:00. Minimum of 200 characters\n",
      "Chapter 3 learning are the following\n",
      "Array is a container which can hold a fix number of items and these items should be of the same type. There are two important terms of arrays, first is the element it means each item stored in an array is called an element. second is index it means that each location of an element in an array should have a numerical index. Every Array index should start from 0 and not from 1. Array i s created in Python by importing array module to the python program. every program of array should start at from array import * \n",
      "There are five basic operation where array supported it. First is the Traverse, this element print the array one by one. Second is the Insertion, this element add the array in the selected or given index. Third is the Deletion, this means that it delete the element in the given index. Fourth is search, this means that it searches an element using the given index or by the value. Last or the fifth is the update, it update the numbers or element at your choices or given index. \n",
      "Typecode are the codes that are used to define the type of value the array will hold. There common types of typecodes that use, example is the b it represent signed integer of size 1 byte, another common typecode is B it represent the unsigned integer of size 1 byte. another is c it represent a character of size 1 byte. i represent signed integer with a size of 2 bytes and I represent unsigned integer with the same value of byte. f represent floationg point of size 4 bytes and d has a size of 8 bytes.\n",
      "There are three types of operation, the insertion, deletion and update. - The data elements in two dimensional arrays can be accessed using two indices. One index referring to the main or parent array and another index referring to the position of the data element in the inner array. If we mention only one index then the entire inner array is printed for that index position. We can insert new data elements at specific position by using the insert() method and specifying the index. We can update the entire inner array or some specific data elements of the inner array by reassigning the values using the array index and by using a methond of \"arrayName[] = any number you want. We can delete the entire inner array or some specific data elements of the inner array by reassigning the values using the del() method with index. But in case you need to remove specific data elements in one of the inner arrays. \n"
     ]
    }
   ],
   "source": [
    "print('Discuss your learnings on Chapter 3  time-frame 3:00 - 18:00. Minimum of 200 characters')\n",
    "\n",
    "print('Chapter 3 learning are the following')\n",
    "print('Array is a container which can hold a fix number of items and these items should be of the same type. There are two important terms of arrays, first is the element it means each item stored in an array is called an element. second is index it means that each location of an element in an array should have a numerical index. Every Array index should start from 0 and not from 1. Array i s created in Python by importing array module to the python program. every program of array should start at from array import * ')\n",
    "print('There are five basic operation where array supported it. First is the Traverse, this element print the array one by one. Second is the Insertion, this element add the array in the selected or given index. Third is the Deletion, this means that it delete the element in the given index. Fourth is search, this means that it searches an element using the given index or by the value. Last or the fifth is the update, it update the numbers or element at your choices or given index. ')\n",
    "print('Typecode are the codes that are used to define the type of value the array will hold. There common types of typecodes that use, example is the b it represent signed integer of size 1 byte, another common typecode is B it represent the unsigned integer of size 1 byte. another is c it represent a character of size 1 byte. i represent signed integer with a size of 2 bytes and I represent unsigned integer with the same value of byte. f represent floationg point of size 4 bytes and d has a size of 8 bytes.')\n",
    "print('There are three types of operation, the insertion, deletion and update. - The data elements in two dimensional arrays can be accessed using two indices. One index referring to the main or parent array and another index referring to the position of the data element in the inner array. If we mention only one index then the entire inner array is printed for that index position. We can insert new data elements at specific position by using the insert() method and specifying the index. We can update the entire inner array or some specific data elements of the inner array by reassigning the values using the array index and by using a methond of \"arrayName[] = any number you want''. We can delete the entire inner array or some specific data elements of the inner array by reassigning the values using the del() method with index. But in case you need to remove specific data elements in one of the inner arrays. ')\n"
   ]
  },
  {
   "cell_type": "code",
   "execution_count": 7,
   "id": "enormous-magazine",
   "metadata": {},
   "outputs": [
    {
     "name": "stdout",
     "output_type": "stream",
     "text": [
      "8\n",
      "15\n",
      "2500\n",
      "2020\n"
     ]
    }
   ],
   "source": [
    "from array import *\n",
    "arrayName = array('I', [8,11,2001,2020])\n",
    "arrayName.insert(1,15)\n",
    "arrayName.remove(2001)\n",
    "arrayName[2] = 2500\n",
    "for x in arrayName:\n",
    " print(x)"
   ]
  },
  {
   "cell_type": "code",
   "execution_count": null,
   "id": "competent-developer",
   "metadata": {},
   "outputs": [],
   "source": []
  },
  {
   "cell_type": "code",
   "execution_count": null,
   "id": "fossil-disclaimer",
   "metadata": {},
   "outputs": [],
   "source": []
  },
  {
   "cell_type": "code",
   "execution_count": null,
   "id": "disciplinary-scott",
   "metadata": {},
   "outputs": [],
   "source": []
  }
 ],
 "metadata": {
  "kernelspec": {
   "display_name": "Python 3",
   "language": "python",
   "name": "python3"
  },
  "language_info": {
   "codemirror_mode": {
    "name": "ipython",
    "version": 3
   },
   "file_extension": ".py",
   "mimetype": "text/x-python",
   "name": "python",
   "nbconvert_exporter": "python",
   "pygments_lexer": "ipython3",
   "version": "3.9.1"
  }
 },
 "nbformat": 4,
 "nbformat_minor": 5
}
